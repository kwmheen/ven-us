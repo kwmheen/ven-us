{
 "cells": [
  {
   "cell_type": "code",
   "execution_count": 4,
   "id": "ed0b5e06",
   "metadata": {},
   "outputs": [
    {
     "data": {
      "text/plain": [
       "'/opt/anaconda3/envs/mkwenv/lib/python3.10/site-packages/chromedriver_autoinstaller/107/chromedriver'"
      ]
     },
     "execution_count": 4,
     "metadata": {},
     "output_type": "execute_result"
    }
   ],
   "source": [
    "from selenium import webdriver\n",
    "\n",
    "from selenium.webdriver.common.by import By\n",
    "from selenium.webdriver.support.ui import Select\n",
    "from selenium.common.exceptions import NoSuchElementException\n",
    "\n",
    "import chromedriver_autoinstaller\n",
    "\n",
    "import time\n",
    "\n",
    "import pandas as pd\n",
    "\n",
    "chromedriver_autoinstaller.install()"
   ]
  },
  {
   "cell_type": "code",
   "execution_count": 5,
   "id": "87b948bd",
   "metadata": {},
   "outputs": [],
   "source": [
    "KAKAO_LINKS = {'birthday':'https://gift.kakao.com/page/11107',\n",
    "              'samll_gift':'https://gift.kakao.com/page/code/life_small_gift',\n",
    "              'health':'https://gift.kakao.com/page/code/life_health',\n",
    "              'small_luxury':'https://gift.kakao.com/page/code/life_small_luxury',\n",
    "              'luxury':'https://gift.kakao.com/page/code/life_luxury_gift',\n",
    "              'baby':'https://gift.kakao.com/page/code/life_pregnancy',\n",
    "              'touched':'https://gift.kakao.com/page/14047',\n",
    "              'funny':'https://gift.kakao.com/page/code/life_funny'}\n",
    "\n",
    "SCROLL_PAUSE_TIME = 3"
   ]
  },
  {
   "cell_type": "code",
   "execution_count": null,
   "id": "1acd5275",
   "metadata": {},
   "outputs": [
    {
     "name": "stdout",
     "output_type": "stream",
     "text": [
      "link:https://gift.kakao.com/page/11107,height:23892\n",
      "link:https://gift.kakao.com/page/code/life_small_gift,height:35507\n",
      "link:https://gift.kakao.com/page/code/life_health,height:7836\n",
      "link:https://gift.kakao.com/page/code/life_small_luxury,height:24373\n",
      "link:https://gift.kakao.com/page/code/life_luxury_gift,height:33872\n",
      "link:https://gift.kakao.com/page/code/life_pregnancy,height:14103\n",
      "link:https://gift.kakao.com/page/14047,height:23782\n"
     ]
    }
   ],
   "source": [
    "for code, link in KAKAO_LINKS.items():\n",
    "    try:\n",
    "        driver = webdriver.Chrome()\n",
    "        driver.get(link)\n",
    "\n",
    "        last_height = driver.execute_script(\"return document.body.scrollHeight\")\n",
    "\n",
    "        while True:\n",
    "            driver.execute_script(\"window.scrollTo(0, document.body.scrollHeight);\")\n",
    "            time.sleep(SCROLL_PAUSE_TIME)\n",
    "            new_height = driver.execute_script(\"return document.body.scrollHeight\")\n",
    "            if new_height == last_height:\n",
    "                print(f'link:{link},height:{last_height}')\n",
    "                break\n",
    "            last_height = new_height\n",
    "\n",
    "        element_list = driver.find_elements(By.XPATH, '''//*[@id=\"mArticle\"]/app-pw-home/gl-promotion\n",
    "                                                        /div/gl-product-group[3]/div/div[2]/\n",
    "                                                        div/ul/*/gl-link/a/span/strong''')\n",
    "        info_df = pd.DataFrame([{'name':x.text,'type':code} for x in element_list])\n",
    "\n",
    "        info_df.to_csv(f'./KAKAO_{code}.csv')\n",
    "        driver.quit()\n",
    "    except Exception as e:\n",
    "        print(e)\n",
    "        driver.quit()\n",
    "    \n",
    "    \n",
    "    \n",
    "    "
   ]
  },
  {
   "cell_type": "code",
   "execution_count": null,
   "id": "fb460cc1",
   "metadata": {},
   "outputs": [],
   "source": []
  }
 ],
 "metadata": {
  "kernelspec": {
   "display_name": "Python 3 (ipykernel)",
   "language": "python",
   "name": "python3"
  },
  "language_info": {
   "codemirror_mode": {
    "name": "ipython",
    "version": 3
   },
   "file_extension": ".py",
   "mimetype": "text/x-python",
   "name": "python",
   "nbconvert_exporter": "python",
   "pygments_lexer": "ipython3",
   "version": "3.10.0"
  }
 },
 "nbformat": 4,
 "nbformat_minor": 5
}
