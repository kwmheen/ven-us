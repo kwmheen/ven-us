{
 "cells": [
  {
   "cell_type": "code",
   "execution_count": 22,
   "id": "ed0b5e06",
   "metadata": {},
   "outputs": [
    {
     "data": {
      "text/plain": [
       "'/opt/anaconda3/envs/mkwenv/lib/python3.10/site-packages/chromedriver_autoinstaller/107/chromedriver'"
      ]
     },
     "execution_count": 22,
     "metadata": {},
     "output_type": "execute_result"
    }
   ],
   "source": [
    "from selenium import webdriver\n",
    "\n",
    "from selenium.webdriver.common.by import By\n",
    "from selenium.webdriver.support.ui import Select\n",
    "from selenium.common.exceptions import NoSuchElementException\n",
    "\n",
    "import chromedriver_autoinstaller\n",
    "\n",
    "import time\n",
    "\n",
    "import pandas as pd\n",
    "import json\n",
    "\n",
    "import traceback\n",
    "\n",
    "chromedriver_autoinstaller.install()"
   ]
  },
  {
   "cell_type": "code",
   "execution_count": 24,
   "id": "5750ec74",
   "metadata": {},
   "outputs": [],
   "source": [
    "with open('./json/KAKAO_INFO.json','r') as file:\n",
    "    KAKAO_DATA = json.load(file)\n",
    "SCROLL_PAUSE_TIME = 3"
   ]
  },
  {
   "cell_type": "code",
   "execution_count": 25,
   "id": "d78b3ccb",
   "metadata": {},
   "outputs": [
    {
     "name": "stdout",
     "output_type": "stream",
     "text": [
      "link:birthday,height:23892\n",
      "link:samll_gift,height:35507\n",
      "link:health,height:24251\n",
      "link:small_luxury,height:24373\n",
      "link:luxury,height:33872\n",
      "link:baby,height:14103\n",
      "link:touched,height:23782\n",
      "link:funny,height:33631\n",
      "CPU times: user 2.84 s, sys: 292 ms, total: 3.13 s\n",
      "Wall time: 5min 55s\n"
     ]
    }
   ],
   "source": [
    "%%time\n",
    "for code, html_info in KAKAO_DATA.items():\n",
    "    try:\n",
    "        driver = webdriver.Chrome()\n",
    "        driver.get(html_info['url'])\n",
    "        last_height = driver.execute_script(\"return document.body.scrollHeight\")\n",
    "\n",
    "        while True:\n",
    "            driver.execute_script(\"window.scrollTo(0, document.body.scrollHeight);\")\n",
    "            time.sleep(SCROLL_PAUSE_TIME)\n",
    "            new_height = driver.execute_script(\"return document.body.scrollHeight\")\n",
    "            if new_height == last_height:\n",
    "                print(f'link:{code},height:{last_height}')\n",
    "                break\n",
    "            last_height = new_height\n",
    "\n",
    "        name_list = driver.find_elements(By.XPATH, html_info['name'])\n",
    "        price_list = driver.find_elements(By.XPATH, html_info['price'])\n",
    "        if len(price_list)!=len(name_list):\n",
    "            raise Exception(f'List Length for {code} not match. name:{len(name_list)},price:{len(price_list)}')\n",
    "            \n",
    "        total_list = list(zip(name_list,price_list))    \n",
    "        info_df = pd.DataFrame([{'name':x[0].text,\n",
    "                                 'price':x[1].text,\n",
    "                                 'type':code} for x in total_list])\n",
    "\n",
    "        info_df.to_csv(f'./csv/KAKAO_{code}.csv')\n",
    "        driver.quit()\n",
    "    except Exception as e:\n",
    "        traceback.print_exc()\n",
    "        driver.quit()\n",
    "    \n",
    "    "
   ]
  },
  {
   "cell_type": "code",
   "execution_count": null,
   "id": "1765bd5a",
   "metadata": {},
   "outputs": [],
   "source": []
  }
 ],
 "metadata": {
  "kernelspec": {
   "display_name": "Python 3 (ipykernel)",
   "language": "python",
   "name": "python3"
  },
  "language_info": {
   "codemirror_mode": {
    "name": "ipython",
    "version": 3
   },
   "file_extension": ".py",
   "mimetype": "text/x-python",
   "name": "python",
   "nbconvert_exporter": "python",
   "pygments_lexer": "ipython3",
   "version": "3.10.0"
  }
 },
 "nbformat": 4,
 "nbformat_minor": 5
}
