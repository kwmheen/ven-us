{
 "cells": [
  {
   "cell_type": "code",
   "execution_count": 64,
   "id": "f3021abb",
   "metadata": {},
   "outputs": [],
   "source": [
    "from selenium import webdriver\n",
    "\n",
    "from selenium.webdriver.common.by import By\n",
    "from selenium.webdriver.support.ui import Select\n",
    "from selenium.common.exceptions import NoSuchElementException\n",
    "from selenium.webdriver.common.keys import Keys\n",
    "\n",
    "import chromedriver_autoinstaller\n",
    "\n",
    "import time\n",
    "from datetime import datetime\n",
    "\n",
    "import re\n",
    "import os\n",
    "import pandas as pd\n",
    "import json\n",
    "import emoji\n",
    "\n",
    "import traceback\n",
    "\n",
    "from IPython.display import clear_output\n",
    "\n",
    "chromedriver_autoinstaller.install()\n",
    "\n",
    "def remove_emoji(text):\n",
    "    for x in emoji.emoji_list(text)[::-1]:\n",
    "        text = text[:x['match_start']]+text[x['match_end']:]\n",
    "    return text"
   ]
  },
  {
   "cell_type": "code",
   "execution_count": 23,
   "id": "01649ce0",
   "metadata": {},
   "outputs": [
    {
     "data": {
      "text/plain": [
       "['KAKAO_luxury.csv',\n",
       " 'KAKAO_touched.csv',\n",
       " 'KAKAO_baby.csv',\n",
       " 'KAKAO_funny.csv',\n",
       " 'KAKAO_samll_gift.csv',\n",
       " 'KAKAO_small_luxury.csv',\n",
       " 'KAKAO_birthday.csv',\n",
       " 'KAKAO_health.csv']"
      ]
     },
     "execution_count": 23,
     "metadata": {},
     "output_type": "execute_result"
    }
   ],
   "source": [
    "file_list = [x for x in os.listdir(os.getcwd()+'/csv') if '.csv' in x]\n",
    "file_list"
   ]
  },
  {
   "cell_type": "code",
   "execution_count": 18,
   "id": "0c491178",
   "metadata": {},
   "outputs": [],
   "source": [
    "KAKAO_SEARCH_URL = 'https://gift.kakao.com/search'"
   ]
  },
  {
   "cell_type": "code",
   "execution_count": 54,
   "id": "0da1b77a",
   "metadata": {},
   "outputs": [],
   "source": [
    "process_list = []"
   ]
  },
  {
   "cell_type": "code",
   "execution_count": 65,
   "id": "04f56138",
   "metadata": {
    "scrolled": false
   },
   "outputs": [
    {
     "name": "stdout",
     "output_type": "stream",
     "text": [
      "KAKAO_health.csv-175\n",
      "name                       0.0\n",
      "price                      0.0\n",
      "type                       0.0\n",
      "제품명                       54.0\n",
      "수입품의 경우 생산자, 수입자 및 제조국    79.0\n",
      "                          ... \n",
      "취소, 환불방법                  99.0\n",
      "재질                        99.5\n",
      "수입식품안전관리특별법에 따른 수입신고      99.5\n",
      "종류                        99.5\n",
      "소재                        99.5\n",
      "Length: 86, dtype: float64\n",
      "CPU times: user 16.5 s, sys: 1.61 s, total: 18.1 s\n",
      "Wall time: 4h 1min 23s\n"
     ]
    }
   ],
   "source": [
    "%%time\n",
    "for file in file_list:\n",
    "    df = pd.read_csv(f'./csv/{file}',index_col=0)\n",
    "    driver = webdriver.Chrome()\n",
    "    for idx in df.index:\n",
    "        if idx%25==0:\n",
    "            clear_output(wait=True)\n",
    "            print(f'{file}-{idx}')\n",
    "            print((df.isna().sum()/(len(df.index)) * 100))\n",
    "        try:\n",
    "            driver.get(KAKAO_SEARCH_URL)\n",
    "            time.sleep(1)\n",
    "            \n",
    "            name = remove_emoji(df.loc[idx,'name'])\n",
    "            \n",
    "            search_box = driver.find_element(By.XPATH,'//*[@id=\"searchInput\"]')\n",
    "            search_box.send_keys(name+Keys.RETURN)\n",
    "            time.sleep(4)\n",
    "\n",
    "            result_box = driver.find_element(By.CLASS_NAME, 'thumb_prd')\n",
    "            result_box.click()\n",
    "            time.sleep(3)\n",
    "\n",
    "            detail_button = driver.find_element(By.XPATH, '//*[@id=\"mArticle\"]/app-home/div/app-contents/app-product-detail-tab/div/ul/li[3]/a/span')\n",
    "            detail_button.click()\n",
    "            \n",
    "            time.sleep(2)\n",
    "            \n",
    "            detail_table = driver.find_element(By.TAG_NAME,'table')\n",
    "            detail_str = detail_table.get_attribute('innerHTML')\n",
    "            detail_list = [x for x in re.findall('>(.*?)<',detail_str) if x]\n",
    "            detail_dict = dict(zip(detail_list[1::2],detail_list[2::2]))\n",
    "\n",
    "            for key, val in detail_dict.items():\n",
    "                df.loc[idx,key] = val\n",
    "        except Exception as e:\n",
    "            print(f'{name}')\n",
    "            print(e)\n",
    "            driver.quit()\n",
    "            df.to_csv(f'./ERR_{datetime.now()}.csv')\n",
    "            break\n",
    "    df.to_csv(f'./INFO_{file}')\n",
    "    process_list.append(f'{file}->{datetime.now()}')\n",
    "    "
   ]
  },
  {
   "cell_type": "code",
   "execution_count": 66,
   "id": "8bff142c",
   "metadata": {},
   "outputs": [
    {
     "data": {
      "text/plain": [
       "['KAKAO_luxury.csv->2022-11-27 20:21:47.308876',\n",
       " 'KAKAO_touched.csv->2022-11-27 20:56:46.923172',\n",
       " 'KAKAO_baby.csv->2022-11-27 21:14:01.150252',\n",
       " 'KAKAO_funny.csv->2022-11-27 22:02:46.490822',\n",
       " 'KAKAO_samll_gift.csv->2022-11-27 22:50:45.650641',\n",
       " 'KAKAO_small_luxury.csv->2022-11-27 22:58:37.139755',\n",
       " 'KAKAO_birthday.csv->2022-11-27 22:58:47.861670',\n",
       " 'KAKAO_health.csv->2022-11-27 23:33:42.754910']"
      ]
     },
     "execution_count": 66,
     "metadata": {},
     "output_type": "execute_result"
    }
   ],
   "source": [
    "process_list"
   ]
  }
 ],
 "metadata": {
  "kernelspec": {
   "display_name": "Python 3 (ipykernel)",
   "language": "python",
   "name": "python3"
  },
  "language_info": {
   "codemirror_mode": {
    "name": "ipython",
    "version": 3
   },
   "file_extension": ".py",
   "mimetype": "text/x-python",
   "name": "python",
   "nbconvert_exporter": "python",
   "pygments_lexer": "ipython3",
   "version": "3.10.0"
  }
 },
 "nbformat": 4,
 "nbformat_minor": 5
}
