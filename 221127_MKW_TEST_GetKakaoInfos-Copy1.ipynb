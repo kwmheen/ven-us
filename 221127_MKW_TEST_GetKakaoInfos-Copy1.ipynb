{
 "cells": [
  {
   "cell_type": "code",
   "execution_count": 1,
   "id": "f3021abb",
   "metadata": {},
   "outputs": [],
   "source": [
    "from selenium import webdriver\n",
    "\n",
    "from selenium.webdriver.common.by import By\n",
    "from selenium.webdriver.support.ui import Select\n",
    "from selenium.common.exceptions import NoSuchElementException\n",
    "from selenium.webdriver.common.keys import Keys\n",
    "\n",
    "import chromedriver_autoinstaller\n",
    "\n",
    "import time\n",
    "from datetime import datetime\n",
    "\n",
    "import re\n",
    "import os\n",
    "import pandas as pd\n",
    "import json\n",
    "import emoji\n",
    "\n",
    "import traceback\n",
    "\n",
    "from IPython.display import clear_output\n",
    "\n",
    "chromedriver_autoinstaller.install()\n",
    "\n",
    "def remove_emoji(text):\n",
    "    for x in emoji.emoji_list(text)[::-1]:\n",
    "        text = text[:x['match_start']]+text[x['match_end']:]\n",
    "    return text"
   ]
  },
  {
   "cell_type": "code",
   "execution_count": 2,
   "id": "01649ce0",
   "metadata": {},
   "outputs": [
    {
     "data": {
      "text/plain": [
       "['KAKAO_luxury.csv',\n",
       " 'KAKAO_touched.csv',\n",
       " 'KAKAO_baby.csv',\n",
       " 'INFO_KAKAO_small_luxury.csv',\n",
       " 'KAKAO_funny.csv',\n",
       " 'ERR_2022-11-27 22:50:45.630008.csv',\n",
       " 'INFO_KAKAO_samll_gift.csv',\n",
       " 'ERR_2022-11-27 22:58:37.124221.csv',\n",
       " 'INFO_KAKAO_health.csv',\n",
       " 'INFO_KAKAO_touched.csv',\n",
       " 'INFO_KAKAO_luxury.csv',\n",
       " 'KAKAO_samll_gift.csv',\n",
       " 'INFO_KAKAO_birthday.csv',\n",
       " 'ERR_2022-11-27 22:58:47.857406.csv',\n",
       " 'KAKAO_small_luxury.csv',\n",
       " 'KAKAO_birthday.csv',\n",
       " 'KAKAO_health.csv',\n",
       " 'INFO_KAKAO_funny.csv',\n",
       " 'INFO_KAKAO_baby.csv']"
      ]
     },
     "execution_count": 2,
     "metadata": {},
     "output_type": "execute_result"
    }
   ],
   "source": [
    "file_list = [x for x in os.listdir(os.getcwd()+'/csv') if '.csv' in x]\n",
    "file_list"
   ]
  },
  {
   "cell_type": "code",
   "execution_count": 3,
   "id": "1a4270db",
   "metadata": {},
   "outputs": [],
   "source": [
    "file_list = ['KAKAO_birthday.csv']"
   ]
  },
  {
   "cell_type": "code",
   "execution_count": 4,
   "id": "0c491178",
   "metadata": {},
   "outputs": [],
   "source": [
    "KAKAO_SEARCH_URL = 'https://gift.kakao.com/search'"
   ]
  },
  {
   "cell_type": "code",
   "execution_count": 5,
   "id": "0da1b77a",
   "metadata": {},
   "outputs": [],
   "source": [
    "process_list = []"
   ]
  },
  {
   "cell_type": "code",
   "execution_count": 7,
   "id": "26d909df",
   "metadata": {},
   "outputs": [],
   "source": [
    "EXCEPT_PRODUCT = ['원소주 스피릿']"
   ]
  },
  {
   "cell_type": "code",
   "execution_count": 8,
   "id": "04f56138",
   "metadata": {
    "scrolled": false
   },
   "outputs": [
    {
     "name": "stdout",
     "output_type": "stream",
     "text": [
      "KAKAO_birthday.csv-75\n",
      "name                                          0.000000\n",
      "price                                         0.000000\n",
      "type                                          0.000000\n",
      "용량 또는 중량                                     81.420765\n",
      "제품 주요 사양                                     81.420765\n",
      "                                               ...    \n",
      "색상                                           99.453552\n",
      "제품구성                                         99.453552\n",
      "세탁방법/취급시 주의사항                                99.453552\n",
      "법에 의한 인증, 허가 등을 받았음을 확인할 수 있는 경우 그에 대한 사항    99.453552\n",
      "A/S 책임자와 전화번호 또는 소비자상담 관련 전화번호               99.453552\n",
      "Length: 73, dtype: float64\n",
      "WON SHOT SET - 원소주 스피릿(1ea)&니트잔(2ea)\n",
      "Alert Text: 로그인이 필요한 메뉴입니다.\n",
      "로그인하시겠습니까?\n",
      "Message: unexpected alert open: {Alert text : 로그인이 필요한 메뉴입니다.\n",
      "로그인하시겠습니까?}\n",
      "  (Session info: chrome=107.0.5304.110)\n",
      "Stacktrace:\n",
      "0   chromedriver                        0x0000000107cd2938 chromedriver + 4745528\n",
      "1   chromedriver                        0x0000000107c54443 chromedriver + 4228163\n",
      "2   chromedriver                        0x00000001078b7b68 chromedriver + 441192\n",
      "3   chromedriver                        0x000000010792df1e chromedriver + 925470\n",
      "4   chromedriver                        0x0000000107915b83 chromedriver + 826243\n",
      "5   chromedriver                        0x00000001078e6a5d chromedriver + 633437\n",
      "6   chromedriver                        0x00000001078e80b1 chromedriver + 639153\n",
      "7   chromedriver                        0x0000000107ca080e chromedriver + 4540430\n",
      "8   chromedriver                        0x0000000107ca4f76 chromedriver + 4558710\n",
      "9   chromedriver                        0x0000000107caca1f chromedriver + 4590111\n",
      "10  chromedriver                        0x0000000107ca5dca chromedriver + 4562378\n",
      "11  chromedriver                        0x0000000107c7b9af chromedriver + 4389295\n",
      "12  chromedriver                        0x0000000107cc3cb8 chromedriver + 4684984\n",
      "13  chromedriver                        0x0000000107cc3e39 chromedriver + 4685369\n",
      "14  chromedriver                        0x0000000107cda46e chromedriver + 4777070\n",
      "15  libsystem_pthread.dylib             0x00007ff815a864e1 _pthread_start + 125\n",
      "16  libsystem_pthread.dylib             0x00007ff815a81f6b thread_start + 15\n",
      "\n",
      "CPU times: user 988 ms, sys: 103 ms, total: 1.09 s\n",
      "Wall time: 13min 19s\n"
     ]
    }
   ],
   "source": [
    "%%time\n",
    "for file in file_list:\n",
    "    df = pd.read_csv(f'./csv/{file}',index_col=0)\n",
    "    driver = webdriver.Chrome()\n",
    "    for idx in df.index:\n",
    "        if idx%25==0:\n",
    "            clear_output(wait=True)\n",
    "            print(f'{file}-{idx}')\n",
    "            print((df.isna().sum()/(len(df.index)) * 100))\n",
    "        try:\n",
    "            driver.get(KAKAO_SEARCH_URL)\n",
    "            time.sleep(1)\n",
    "            \n",
    "            name = remove_emoji(df.loc[idx,'name'])\n",
    "            if name in EXCEPT_PRODUCT:\n",
    "                continue\n",
    "            \n",
    "            search_box = driver.find_element(By.XPATH,'//*[@id=\"searchInput\"]')\n",
    "            search_box.send_keys(name+Keys.RETURN)\n",
    "            time.sleep(4)\n",
    "\n",
    "            result_box = driver.find_element(By.CLASS_NAME, 'thumb_prd')\n",
    "            result_box.click()\n",
    "            time.sleep(3)\n",
    "\n",
    "            detail_button = driver.find_element(By.XPATH, '//*[@id=\"mArticle\"]/app-home/div/app-contents/app-product-detail-tab/div/ul/li[3]/a/span')\n",
    "            detail_button.click()\n",
    "            \n",
    "            time.sleep(2)\n",
    "            \n",
    "            detail_table = driver.find_element(By.TAG_NAME,'table')\n",
    "            detail_str = detail_table.get_attribute('innerHTML')\n",
    "            detail_list = [x for x in re.findall('>(.*?)<',detail_str) if x]\n",
    "            detail_dict = dict(zip(detail_list[1::2],detail_list[2::2]))\n",
    "\n",
    "            for key, val in detail_dict.items():\n",
    "                df.loc[idx,key] = val\n",
    "        except Exception as e:\n",
    "            print(f'{name}')\n",
    "            print(e)\n",
    "            driver.quit()\n",
    "            df.to_csv(f'./ERR_{datetime.now()}.csv')\n",
    "            break\n",
    "    df.to_csv(f'./INFO_{file}')\n",
    "    process_list.append(f'{file}->{datetime.now()}')\n",
    "    "
   ]
  },
  {
   "cell_type": "code",
   "execution_count": 66,
   "id": "8bff142c",
   "metadata": {},
   "outputs": [
    {
     "data": {
      "text/plain": [
       "['KAKAO_luxury.csv->2022-11-27 20:21:47.308876',\n",
       " 'KAKAO_touched.csv->2022-11-27 20:56:46.923172',\n",
       " 'KAKAO_baby.csv->2022-11-27 21:14:01.150252',\n",
       " 'KAKAO_funny.csv->2022-11-27 22:02:46.490822',\n",
       " 'KAKAO_samll_gift.csv->2022-11-27 22:50:45.650641',\n",
       " 'KAKAO_small_luxury.csv->2022-11-27 22:58:37.139755',\n",
       " 'KAKAO_birthday.csv->2022-11-27 22:58:47.861670',\n",
       " 'KAKAO_health.csv->2022-11-27 23:33:42.754910']"
      ]
     },
     "execution_count": 66,
     "metadata": {},
     "output_type": "execute_result"
    }
   ],
   "source": [
    "process_list"
   ]
  }
 ],
 "metadata": {
  "kernelspec": {
   "display_name": "Python 3 (ipykernel)",
   "language": "python",
   "name": "python3"
  },
  "language_info": {
   "codemirror_mode": {
    "name": "ipython",
    "version": 3
   },
   "file_extension": ".py",
   "mimetype": "text/x-python",
   "name": "python",
   "nbconvert_exporter": "python",
   "pygments_lexer": "ipython3",
   "version": "3.10.0"
  }
 },
 "nbformat": 4,
 "nbformat_minor": 5
}
